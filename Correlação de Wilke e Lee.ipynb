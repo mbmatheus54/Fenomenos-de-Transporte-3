{
 "cells": [
  {
   "cell_type": "code",
   "execution_count": null,
   "metadata": {},
   "outputs": [],
   "source": [
    "pip install opencv-python-headless\n"
   ]
  },
  {
   "cell_type": "code",
   "execution_count": null,
   "metadata": {},
   "outputs": [],
   "source": [
    "pip install matplotlib"
   ]
  },
  {
   "cell_type": "code",
   "execution_count": null,
   "metadata": {},
   "outputs": [],
   "source": [
    "import math"
   ]
  },
  {
   "cell_type": "code",
   "execution_count": null,
   "metadata": {},
   "outputs": [],
   "source": [
    "import time"
   ]
  },
  {
   "cell_type": "markdown",
   "metadata": {},
   "source": [
    "# ![]('wilke_lee.png')\n",
    "\n",
    "\n",
    "\n",
    "\n",
    "\n",
    "\n",
    "\n",
    "\n",
    "\n",
    "\n",
    "\n"
   ]
  },
  {
   "cell_type": "code",
   "execution_count": null,
   "metadata": {},
   "outputs": [],
   "source": []
  },
  {
   "cell_type": "code",
   "execution_count": null,
   "metadata": {},
   "outputs": [],
   "source": [
    "direitos_autorais = 'Copyright (c) 2020 Matheus Monteiro Batista. Graduação em Engenharia Bioquímica\\n' \\\n",
    "                    'All Rights Reserved'\n",
    "\n",
    "\n",
    "\n",
    "yk = input('pressione enter para continuar')\n",
    "print(direitos_autorais)\n",
    "time.sleep(2)\n",
    "tempo_acesso = time.strftime('%Y-%m-%d %H:%M:%S' , time.localtime())\n",
    "time.sleep(2)\n",
    "print('Hora de acesso: {}'.format(tempo_acesso))\n",
    "time.sleep(2)\n",
    "print('bem vindo a explicação do coeficiente de correlação de Wilke e Lee'.upper())\n",
    "time.sleep(2)\n",
    "print(\n",
    "    '\\u001B[31mRecomendações de uso, mantenha a imagem aberta enquanto observa o desenvolvimento do código!{0}'.format(\n",
    "        '\\033[m'.upper()))\n",
    "print(\n",
    "    '\\u001B[31mOs termos sobescritos serão representados como letras minusculas e os termos elevados pelo caractere' \\\n",
    "    '(^)'.format('\\033[m'.upper()))\n",
    "print('\\033[m' + 'A equação de Wilke e Lee, tem por sua finalidade de correlacionar e estimar um coeficiente de gases.' \\\n",
    "                 'Ao considerarmos pelo menos uma das espécies com uma massa molar superior a 45'.upper() + 'g/gmol.'.lower() + \\\n",
    "      'Observando segundo a imagem, temos as seguintes caracteristicas: '.upper())\n",
    "time.sleep(2)\n",
    "print('=' * 55)\n",
    "print(\n",
    "    '\\u001B[31m[Dab] = Coeficiente de difusividade do elemento A em B\\n\\u001B[33m[b*10^3] = Fator acentrico, '\n",
    "    'segundo Wilke e Lee\\n\\u001B[32m[T^1,75] ou [T^3/2] = Temperatura (K)\\n\\u001B[7;30m[P] = Pressão (atm)\\u001B['\n",
    "    'm\\n\\u001B[35m[σab] = Diâmetro médio de colisão entre A e B (Å)')\n",
    "print('\\u001B[36m' + '[Ωab]' + ' = ' + 'Integral de colisão (Adimensional)\\033[m\\n'\n",
    "                                       '\\u001B[37m' + '[Mi]' + ' = ' + 'Concentração molar das espécies (g/mol)\\033[m')\n",
    "print('=' * 55)\n",
    "print('como demonstração prática da Correlação de Wilke e Lee, observe o exemplo a seguir:')\n",
    "print(\"1) Determine o coeficiente de difusividade para os elementos nitrogênio e hidrogênio, utilizando a correlação\"\n",
    "      \"de Wilke e Lee, para uma condição crítica: \")\n",
    "print('=-' * 38)\n",
    "print(' T(K)      σi(Å)       Ωd      P(atm)     Ma(g/mol)     Mb(g/mol)\\n'\n",
    "      '288.15    3.572      0.8188        1         2.016        28.013   ')\n",
    "print('=-' * 38)\n",
    "b = (1.858 / 1000)\n",
    "t = (288.15 ** 1.75)\n",
    "p = 1\n",
    "coli = 3.572\n",
    "inte = 0.8188\n",
    "ma = 2.016\n",
    "mb = 28.013\n",
    "Dab = b * (t / (p * (coli ** 2) * inte)) * (math.sqrt((1 / ma) + (1 / mb)))\n",
    "print('o coeficiente de difusividade, segundo a correlação de Wilke e Lee é {:.3f}(cm²/s)'.format(Dab))\n",
    "\n",
    "yh = input('pressione enter para encerrar')\n"
   ]
  },
  {
   "cell_type": "markdown",
   "metadata": {},
   "source": [
    "# print('ola')"
   ]
  },
  {
   "cell_type": "code",
   "execution_count": null,
   "metadata": {},
   "outputs": [],
   "source": []
  }
 ],
 "metadata": {
  "kernelspec": {
   "display_name": "Python 3",
   "language": "python",
   "name": "python3"
  },
  "language_info": {
   "codemirror_mode": {
    "name": "ipython",
    "version": 3
   },
   "file_extension": ".py",
   "mimetype": "text/x-python",
   "name": "python",
   "nbconvert_exporter": "python",
   "pygments_lexer": "ipython3",
   "version": "3.7.8"
  },
  "widgets": {
   "application/vnd.jupyter.widget-state+json": {
    "state": {},
    "version_major": 2,
    "version_minor": 0
   }
  }
 },
 "nbformat": 4,
 "nbformat_minor": 4
}
